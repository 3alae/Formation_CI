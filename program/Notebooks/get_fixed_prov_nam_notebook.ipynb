{
 "cells": [
  {
   "cell_type": "code",
   "execution_count": 2,
   "metadata": {},
   "outputs": [],
   "source": [
    "def get_fixed_prov_name(celda_name):\n",
    "    suffix = celda_name[0:3]\n",
    "    data = {'AND':'AND',\n",
    "            'ARA':'ARG',\n",
    "            'AST':'AST',\n",
    "            'CAN':'CAN',\n",
    "            'CLM':'CAM',\n",
    "            'CYL':'CAL',\n",
    "            'CAT':'CAT',\n",
    "            'VAL':'CVA',\n",
    "            'EXT':'EXT',\n",
    "            'GAL':'GAL',\n",
    "            'BAL':'IBA',\n",
    "            'CAN':'ICA',\n",
    "            'MAD':'MAD',\n",
    "            'MUR':'MUR',\n",
    "            'NAV':'NAV',\n",
    "            'PVA':'PVA',\n",
    "            'RIO':'RIO'\n",
    "           }\n",
    "    try: \n",
    "        return data[suffix]\n",
    "    except:\n",
    "        return None"
   ]
  },
  {
   "cell_type": "code",
   "execution_count": 3,
   "metadata": {},
   "outputs": [
    {
     "data": {
      "text/plain": [
       "'ICA'"
      ]
     },
     "execution_count": 3,
     "metadata": {},
     "output_type": "execute_result"
    }
   ],
   "source": []
  }
 ],
 "metadata": {
  "kernelspec": {
   "display_name": "Python 3",
   "language": "python",
   "name": "python3"
  },
  "language_info": {
   "codemirror_mode": {
    "name": "ipython",
    "version": 3
   },
   "file_extension": ".py",
   "mimetype": "text/x-python",
   "name": "python",
   "nbconvert_exporter": "python",
   "pygments_lexer": "ipython3",
   "version": "3.7.3"
  }
 },
 "nbformat": 4,
 "nbformat_minor": 2
}
